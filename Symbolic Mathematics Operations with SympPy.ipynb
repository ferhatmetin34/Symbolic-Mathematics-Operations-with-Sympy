{
 "cells": [
  {
   "cell_type": "code",
   "execution_count": 1,
   "metadata": {
    "ExecuteTime": {
     "end_time": "2020-07-16T09:08:13.195486Z",
     "start_time": "2020-07-16T09:08:11.826876Z"
    },
    "scrolled": true
   },
   "outputs": [
    {
     "data": {
      "text/plain": [
       "'1.6'"
      ]
     },
     "execution_count": 1,
     "metadata": {},
     "output_type": "execute_result"
    }
   ],
   "source": [
    "#pip install sympy\n",
    "import sympy as sym\n",
    "from sympy import * # sympy içindekileri import edelim\n",
    "from sympy import init_printing \n",
    "from IPython.display import display # birden fazla çıktıyı görmek için kullanıyoruz\n",
    "init_printing() #ortamdaki en uygun yazıcıyı otomatik olarak etkinleştirir.(str,ASCII,latex,MathML vb.)\n",
    "#help(init_printing)\n",
    "sym.__version__"
   ]
  },
  {
   "cell_type": "code",
   "execution_count": 2,
   "metadata": {
    "ExecuteTime": {
     "end_time": "2020-07-16T09:08:13.200476Z",
     "start_time": "2020-07-16T09:08:13.197471Z"
    },
    "scrolled": false
   },
   "outputs": [],
   "source": [
    "#dir(sym)"
   ]
  },
  {
   "cell_type": "markdown",
   "metadata": {},
   "source": [
    "Vektör işlemleri,matris işlemleri ,istatistik işlemleri,geometrik işlemler\n",
    "\n",
    "https://cloudconvert.com/md-to-docx"
   ]
  },
  {
   "cell_type": "markdown",
   "metadata": {},
   "source": [
    "## Temel İşlemler "
   ]
  },
  {
   "cell_type": "code",
   "execution_count": 3,
   "metadata": {
    "ExecuteTime": {
     "end_time": "2020-07-16T09:08:14.454437Z",
     "start_time": "2020-07-16T09:08:13.203454Z"
    },
    "scrolled": false
   },
   "outputs": [
    {
     "data": {
      "image/png": "[encoded data removed]",
      "text/latex": [
       "$\\displaystyle x + 3$"
      ],
      "text/plain": [
       "x + 3"
      ]
     },
     "metadata": {},
     "output_type": "display_data"
    },
    {
     "data": {
      "image/png": "[encoded data removed]",
      "text/latex": [
       "$\\displaystyle x^{2} - 5$"
      ],
      "text/plain": [
       " 2    \n",
       "x  - 5"
      ]
     },
     "metadata": {},
     "output_type": "display_data"
    },
    {
     "data": {
      "image/png": "[encoded data removed]",
      "text/latex": [
       "$\\displaystyle x^{2} + 9$"
      ],
      "text/plain": [
       " 2    \n",
       "x  + 9"
      ]
     },
     "metadata": {},
     "output_type": "display_data"
    },
    {
     "data": {
      "image/png": "[encoded data removed]",
      "text/latex": [
       "$\\displaystyle - x^{3} + x + 1$"
      ],
      "text/plain": [
       "   3        \n",
       "- x  + x + 1"
      ]
     },
     "metadata": {},
     "output_type": "display_data"
    },
    {
     "data": {
      "image/png": "[encoded data removed]",
      "text/latex": [
       "$\\displaystyle \\sqrt{x - 1}$"
      ],
      "text/plain": [
       "  _______\n",
       "╲╱ x - 1 "
      ]
     },
     "metadata": {},
     "output_type": "display_data"
    },
    {
     "data": {
      "image/png": "[encoded data removed]",
      "text/latex": [
       "$\\displaystyle \\log{\\left(x \\right)}$"
      ],
      "text/plain": [
       "log(x)"
      ]
     },
     "metadata": {},
     "output_type": "display_data"
    },
    {
     "data": {
      "image/png": "[encoded data removed]",
      "text/latex": [
       "$\\displaystyle 2 \\sqrt{2}$"
      ],
      "text/plain": [
       "2⋅√2"
      ]
     },
     "metadata": {},
     "output_type": "display_data"
    },
    {
     "data": {
      "image/png": "[encoded data removed]",
      "text/latex": [
       "$\\displaystyle \\sqrt{10}$"
      ],
      "text/plain": [
       "√10"
      ]
     },
     "metadata": {},
     "output_type": "display_data"
    }
   ],
   "source": [
    "x=symbols(\"x\") #sembol oluşturma\n",
    "y=symbols(\"y\")\n",
    "display(x + 3 , x**2 - 5 , x**2 + 9, x + 1 - x**3 , sqrt(x-1),log(x),sqrt(8), sqrt(10))"
   ]
  },
  {
   "cell_type": "code",
   "execution_count": 4,
   "metadata": {
    "ExecuteTime": {
     "end_time": "2020-07-16T09:08:14.533228Z",
     "start_time": "2020-07-16T09:08:14.456432Z"
    }
   },
   "outputs": [
    {
     "data": {
      "image/png": "[encoded data removed]",
      "text/latex": [
       "$\\displaystyle - \\alpha^{2} - 2 \\beta - \\omega + \\theta^{3} - \\pi^{2}$"
      ],
      "text/plain": [
       "   2              3    2\n",
       "- α  - 2⋅β - ω + θ  - π "
      ]
     },
     "execution_count": 4,
     "metadata": {},
     "output_type": "execute_result"
    }
   ],
   "source": [
    "theta,alpha,beta,omega=symbols(\"theta,alpha,beta,omega\")\n",
    "theta**3 - alpha**2 - beta*2 - omega - pi**2 #pi için tanımlama yapmaya gerek yok"
   ]
  },
  {
   "cell_type": "code",
   "execution_count": 5,
   "metadata": {
    "ExecuteTime": {
     "end_time": "2020-07-16T09:08:14.600049Z",
     "start_time": "2020-07-16T09:08:14.536219Z"
    },
    "scrolled": true
   },
   "outputs": [
    {
     "data": {
      "image/png": "[encoded data removed]",
      "text/latex": [
       "$\\displaystyle \\int\\limits_{a}^{b} \\left(x^{3} - 5 x\\right)\\, dx$"
      ],
      "text/plain": [
       "b              \n",
       "⌠              \n",
       "⎮ ⎛ 3      ⎞   \n",
       "⎮ ⎝x  - 5⋅x⎠ dx\n",
       "⌡              \n",
       "a              "
      ]
     },
     "execution_count": 5,
     "metadata": {},
     "output_type": "execute_result"
    }
   ],
   "source": [
    "a,b=symbols(\"a,b\")\n",
    "Integral(x**3-5*x,(x,a,b)) #integral (fonksiyon,semboller)"
   ]
  },
  {
   "cell_type": "code",
   "execution_count": 6,
   "metadata": {
    "ExecuteTime": {
     "end_time": "2020-07-16T09:08:14.681828Z",
     "start_time": "2020-07-16T09:08:14.603041Z"
    }
   },
   "outputs": [
    {
     "data": {
      "image/png": "[encoded data removed]",
      "text/latex": [
       "$\\displaystyle \\int\\limits_{1}^{5} \\left(x^{3} - 5 x\\right)\\, dx$"
      ],
      "text/plain": [
       "5              \n",
       "⌠              \n",
       "⎮ ⎛ 3      ⎞   \n",
       "⎮ ⎝x  - 5⋅x⎠ dx\n",
       "⌡              \n",
       "1              "
      ]
     },
     "execution_count": 6,
     "metadata": {},
     "output_type": "execute_result"
    }
   ],
   "source": [
    "Integral(x**3-5*x,(x,1,5)) "
   ]
  },
  {
   "cell_type": "code",
   "execution_count": 7,
   "metadata": {
    "ExecuteTime": {
     "end_time": "2020-07-16T09:08:14.739675Z",
     "start_time": "2020-07-16T09:08:14.683823Z"
    }
   },
   "outputs": [
    {
     "data": {
      "image/png": "[encoded data removed]",
      "text/latex": [
       "$\\displaystyle \\int\\limits_{0}^{\\infty} e^{- x}\\, dx$"
      ],
      "text/plain": [
       "∞       \n",
       "⌠       \n",
       "⎮  -x   \n",
       "⎮ ℯ   dx\n",
       "⌡       \n",
       "0       "
      ]
     },
     "execution_count": 7,
     "metadata": {},
     "output_type": "execute_result"
    }
   ],
   "source": [
    "f=exp(-x)\n",
    "Integral(f,(x,0,oo))"
   ]
  },
  {
   "cell_type": "code",
   "execution_count": 8,
   "metadata": {
    "ExecuteTime": {
     "end_time": "2020-07-16T09:08:14.791538Z",
     "start_time": "2020-07-16T09:08:14.742666Z"
    }
   },
   "outputs": [
    {
     "data": {
      "image/png": "[encoded data removed]",
      "text/latex": [
       "$\\displaystyle \\int\\limits_{1}^{3} x\\, dx$"
      ],
      "text/plain": [
       "3     \n",
       "⌠     \n",
       "⎮ x dx\n",
       "⌡     \n",
       "1     "
      ]
     },
     "execution_count": 8,
     "metadata": {},
     "output_type": "execute_result"
    }
   ],
   "source": [
    "Integral(x,(x,1,3))"
   ]
  },
  {
   "cell_type": "code",
   "execution_count": 9,
   "metadata": {
    "ExecuteTime": {
     "end_time": "2020-07-16T09:08:14.858372Z",
     "start_time": "2020-07-16T09:08:14.793530Z"
    }
   },
   "outputs": [
    {
     "data": {
      "image/png": "[encoded data removed]",
      "text/latex": [
       "$\\displaystyle \\frac{d}{d x} \\left(x^{3} - 5 x\\right)$"
      ],
      "text/plain": [
       "d ⎛ 3      ⎞\n",
       "──⎝x  - 5⋅x⎠\n",
       "dx          "
      ]
     },
     "execution_count": 9,
     "metadata": {},
     "output_type": "execute_result"
    }
   ],
   "source": [
    "Derivative(x**3-5*x,x) # x'e göre birinci türev"
   ]
  },
  {
   "cell_type": "code",
   "execution_count": 10,
   "metadata": {
    "ExecuteTime": {
     "end_time": "2020-07-16T09:08:14.928170Z",
     "start_time": "2020-07-16T09:08:14.860351Z"
    }
   },
   "outputs": [
    {
     "data": {
      "image/png": "[encoded data removed]",
      "text/latex": [
       "$\\displaystyle \\frac{d^{3}}{d x^{3}} \\left(x^{3} - 5 x\\right)$"
      ],
      "text/plain": [
       "  3          \n",
       " d ⎛ 3      ⎞\n",
       "───⎝x  - 5⋅x⎠\n",
       "  3          \n",
       "dx           "
      ]
     },
     "execution_count": 10,
     "metadata": {},
     "output_type": "execute_result"
    }
   ],
   "source": [
    "Derivative(x**3-5*x,x,3) # x'e göre üçüncü türev"
   ]
  },
  {
   "cell_type": "code",
   "execution_count": 11,
   "metadata": {
    "ExecuteTime": {
     "end_time": "2020-07-16T09:08:14.984531Z",
     "start_time": "2020-07-16T09:08:14.930165Z"
    }
   },
   "outputs": [
    {
     "data": {
      "image/png": "[encoded data removed]",
      "text/latex": [
       "$\\displaystyle \\lim_{x \\to \\infty} \\frac{1}{x}$"
      ],
      "text/plain": [
       "    1\n",
       "lim ─\n",
       "x─→∞x"
      ]
     },
     "execution_count": 11,
     "metadata": {},
     "output_type": "execute_result"
    }
   ],
   "source": [
    "Limit(1/x, x, oo)"
   ]
  },
  {
   "cell_type": "code",
   "execution_count": 12,
   "metadata": {
    "ExecuteTime": {
     "end_time": "2020-07-16T09:08:15.052348Z",
     "start_time": "2020-07-16T09:08:14.986525Z"
    }
   },
   "outputs": [
    {
     "data": {
      "image/png": "[encoded data removed]",
      "text/latex": [
       "$\\displaystyle 0$"
      ],
      "text/plain": [
       "0"
      ]
     },
     "execution_count": 12,
     "metadata": {},
     "output_type": "execute_result"
    }
   ],
   "source": [
    "limit(1/x, x, oo) #küçük l ile limit yazarsak sonucu elde ederiz."
   ]
  },
  {
   "cell_type": "code",
   "execution_count": 13,
   "metadata": {
    "ExecuteTime": {
     "end_time": "2020-07-16T09:08:15.139117Z",
     "start_time": "2020-07-16T09:08:15.055341Z"
    }
   },
   "outputs": [
    {
     "data": {
      "image/png": "[encoded data removed]",
      "text/latex": [
       "$\\displaystyle \\sum_{x=1}^{10} \\frac{x^{2}}{2 x - 1}$"
      ],
      "text/plain": [
       "  10         \n",
       " ____        \n",
       " ╲           \n",
       "  ╲       2  \n",
       "   ╲     x   \n",
       "   ╱  ───────\n",
       "  ╱   2⋅x - 1\n",
       " ╱           \n",
       " ‾‾‾‾        \n",
       "x = 1        "
      ]
     },
     "execution_count": 13,
     "metadata": {},
     "output_type": "execute_result"
    }
   ],
   "source": [
    "Sum((x**2) / (2*x - 1),(x,1,10))  # (fonksiyon,semboller)"
   ]
  },
  {
   "cell_type": "code",
   "execution_count": 14,
   "metadata": {
    "ExecuteTime": {
     "end_time": "2020-07-16T09:08:15.204948Z",
     "start_time": "2020-07-16T09:08:15.141111Z"
    }
   },
   "outputs": [
    {
     "data": {
      "image/png": "[encoded data removed]",
      "text/latex": [
       "$\\displaystyle \\prod_{x=1}^{10} \\frac{x^{2}}{2 x - 1}$"
      ],
      "text/plain": [
       "    10            \n",
       "─┬──────┬─        \n",
       " │      │      2  \n",
       " │      │     x   \n",
       " │      │  ───────\n",
       " │      │  2⋅x - 1\n",
       " │      │         \n",
       "  x = 1           "
      ]
     },
     "execution_count": 14,
     "metadata": {},
     "output_type": "execute_result"
    }
   ],
   "source": [
    "Product((x**2) / (2*x - 1),(x,1,10))"
   ]
  },
  {
   "cell_type": "code",
   "execution_count": 15,
   "metadata": {
    "ExecuteTime": {
     "end_time": "2020-07-16T09:08:15.290716Z",
     "start_time": "2020-07-16T09:08:15.206942Z"
    }
   },
   "outputs": [
    {
     "data": {
      "image/png": "[encoded data removed]",
      "text/latex": [
       "$\\displaystyle \\sum_{x=1}^{10} x$"
      ],
      "text/plain": [
       "  10   \n",
       " ___   \n",
       " ╲     \n",
       "  ╲    \n",
       "  ╱   x\n",
       " ╱     \n",
       " ‾‾‾   \n",
       "x = 1  "
      ]
     },
     "execution_count": 15,
     "metadata": {},
     "output_type": "execute_result"
    }
   ],
   "source": [
    "Sum(x,(x,1,10))"
   ]
  },
  {
   "cell_type": "code",
   "execution_count": 16,
   "metadata": {
    "ExecuteTime": {
     "end_time": "2020-07-16T09:08:15.359533Z",
     "start_time": "2020-07-16T09:08:15.292712Z"
    },
    "scrolled": true
   },
   "outputs": [
    {
     "data": {
      "image/png": "[encoded data removed]",
      "text/latex": [
       "$\\displaystyle \\sum_{x=1}^{10} x = 55$"
      ],
      "text/plain": [
       "  10        \n",
       " ___        \n",
       " ╲          \n",
       "  ╲         \n",
       "  ╱   x = 55\n",
       " ╱          \n",
       " ‾‾‾        \n",
       "x = 1       "
      ]
     },
     "execution_count": 16,
     "metadata": {},
     "output_type": "execute_result"
    }
   ],
   "source": [
    "Eq(Sum(x,(x,1,10)), Sum(x,(x,1,10)).doit()) #doit() ile işlemi yaptırabiliriz"
   ]
  },
  {
   "cell_type": "code",
   "execution_count": 17,
   "metadata": {
    "ExecuteTime": {
     "end_time": "2020-07-16T09:08:15.417378Z",
     "start_time": "2020-07-16T09:08:15.360542Z"
    }
   },
   "outputs": [
    {
     "data": {
      "image/png": "[encoded data removed]",
      "text/latex": [
       "$\\displaystyle f{\\left(x \\right)} = \\sum_{x=1}^{10} x$"
      ],
      "text/plain": [
       "         10   \n",
       "        ___   \n",
       "        ╲     \n",
       "         ╲    \n",
       "f(x) =   ╱   x\n",
       "        ╱     \n",
       "        ‾‾‾   \n",
       "       x = 1  "
      ]
     },
     "execution_count": 17,
     "metadata": {},
     "output_type": "execute_result"
    }
   ],
   "source": [
    "Eq(Function(\"f\")(x),Sum(x,(x,1,10)))"
   ]
  },
  {
   "cell_type": "code",
   "execution_count": 18,
   "metadata": {
    "ExecuteTime": {
     "end_time": "2020-07-16T09:08:15.462259Z",
     "start_time": "2020-07-16T09:08:15.419373Z"
    }
   },
   "outputs": [
    {
     "data": {
      "image/png": "[encoded data removed]",
      "text/latex": [
       "$\\displaystyle 55.0$"
      ],
      "text/plain": [
       "55.0000000000000"
      ]
     },
     "execution_count": 18,
     "metadata": {},
     "output_type": "execute_result"
    }
   ],
   "source": [
    "Sum(x,(x,1,10)).evalf() #evalf() ile işlemi yaptırabiliriz."
   ]
  },
  {
   "cell_type": "code",
   "execution_count": 19,
   "metadata": {
    "ExecuteTime": {
     "end_time": "2020-07-16T09:08:15.581323Z",
     "start_time": "2020-07-16T09:08:15.464253Z"
    }
   },
   "outputs": [
    {
     "data": {
      "image/png": "[encoded data removed]",
      "text/latex": [
       "$\\displaystyle - \\prod_{x=1}^{5} x + \\sum_{x=1}^{10} x + \\sum_{x=3}^{8} x^{2}$"
      ],
      "text/plain": [
       "              10        8     \n",
       "             ___       ___    \n",
       "    5        ╲         ╲      \n",
       "  ─┬─┬─       ╲         ╲    2\n",
       "-  │ │  x +   ╱   x +   ╱   x \n",
       "   │ │       ╱         ╱      \n",
       "  x = 1      ‾‾‾       ‾‾‾    \n",
       "            x = 1     x = 3   "
      ]
     },
     "execution_count": 19,
     "metadata": {},
     "output_type": "execute_result"
    }
   ],
   "source": [
    "Sum(x,(x,1,10)) + Sum(x**2,(x,3,8)) - Product(x,(x,1,5))"
   ]
  },
  {
   "cell_type": "code",
   "execution_count": 20,
   "metadata": {
    "ExecuteTime": {
     "end_time": "2020-07-16T09:08:15.635172Z",
     "start_time": "2020-07-16T09:08:15.584307Z"
    }
   },
   "outputs": [
    {
     "data": {
      "image/png": "[encoded data removed]",
      "text/latex": [
       "$\\displaystyle 3628800$"
      ],
      "text/plain": [
       "3628800"
      ]
     },
     "execution_count": 20,
     "metadata": {},
     "output_type": "execute_result"
    }
   ],
   "source": [
    "Product(x,(x,1,10)).doit() # 1*2*3*4*5*6*7*8*9*10 = 3628800"
   ]
  },
  {
   "cell_type": "code",
   "execution_count": 21,
   "metadata": {
    "ExecuteTime": {
     "end_time": "2020-07-16T09:08:15.812717Z",
     "start_time": "2020-07-16T09:08:15.637167Z"
    }
   },
   "outputs": [
    {
     "data": {
      "image/png": "[encoded data removed]",
      "text/latex": [
       "$\\displaystyle x^{2} + x$"
      ],
      "text/plain": [
       " 2    \n",
       "x  + x"
      ]
     },
     "execution_count": 21,
     "metadata": {},
     "output_type": "execute_result"
    }
   ],
   "source": [
    "Add(x**2, x ,x,-x)"
   ]
  },
  {
   "cell_type": "code",
   "execution_count": 22,
   "metadata": {
    "ExecuteTime": {
     "end_time": "2020-07-16T09:08:15.876555Z",
     "start_time": "2020-07-16T09:08:15.814713Z"
    }
   },
   "outputs": [
    {
     "data": {
      "image/png": "[encoded data removed]",
      "text/latex": [
       "$\\displaystyle x^{2} - x + x + x$"
      ],
      "text/plain": [
       " 2            \n",
       "x  - x + x + x"
      ]
     },
     "execution_count": 22,
     "metadata": {},
     "output_type": "execute_result"
    }
   ],
   "source": [
    "Add(x**2, x ,x,-x,evaluate=False)"
   ]
  },
  {
   "cell_type": "code",
   "execution_count": 23,
   "metadata": {
    "ExecuteTime": {
     "end_time": "2020-07-16T09:08:16.033227Z",
     "start_time": "2020-07-16T09:08:15.882532Z"
    }
   },
   "outputs": [
    {
     "data": {
      "image/png": "[encoded data removed]",
      "text/latex": [
       "$\\displaystyle x^{3}$"
      ],
      "text/plain": [
       " 3\n",
       "x "
      ]
     },
     "execution_count": 23,
     "metadata": {},
     "output_type": "execute_result"
    }
   ],
   "source": [
    "Mul(x,x,x)"
   ]
  },
  {
   "cell_type": "code",
   "execution_count": 24,
   "metadata": {
    "ExecuteTime": {
     "end_time": "2020-07-16T09:08:16.677030Z",
     "start_time": "2020-07-16T09:08:16.036123Z"
    }
   },
   "outputs": [
    {
     "data": {
      "image/png": "[encoded data removed]",
      "text/latex": [
       "$\\displaystyle x x x$"
      ],
      "text/plain": [
       "x⋅x⋅x"
      ]
     },
     "execution_count": 24,
     "metadata": {},
     "output_type": "execute_result"
    }
   ],
   "source": [
    "Mul(x,x,x,evaluate=False)"
   ]
  },
  {
   "cell_type": "code",
   "execution_count": 25,
   "metadata": {
    "ExecuteTime": {
     "end_time": "2020-07-16T09:08:16.842587Z",
     "start_time": "2020-07-16T09:08:16.679024Z"
    }
   },
   "outputs": [
    {
     "data": {
      "image/png": "[encoded data removed]",
      "text/latex": [
       "$\\displaystyle x + \\frac{x^{3}}{3} + \\frac{2 x^{5}}{15} + O\\left(x^{6}\\right)$"
      ],
      "text/plain": [
       "     3      5        \n",
       "    x    2⋅x     ⎛ 6⎞\n",
       "x + ── + ──── + O⎝x ⎠\n",
       "    3     15         "
      ]
     },
     "execution_count": 25,
     "metadata": {},
     "output_type": "execute_result"
    }
   ],
   "source": [
    "f=tan(x)\n",
    "f.series(x)"
   ]
  },
  {
   "cell_type": "code",
   "execution_count": 26,
   "metadata": {
    "ExecuteTime": {
     "end_time": "2020-07-16T09:08:16.986773Z",
     "start_time": "2020-07-16T09:08:16.844583Z"
    }
   },
   "outputs": [
    {
     "data": {
      "image/png": "[encoded data removed]",
      "text/latex": [
       "$\\displaystyle x^{3} - 5 x$"
      ],
      "text/plain": [
       " 3      \n",
       "x  - 5⋅x"
      ]
     },
     "metadata": {},
     "output_type": "display_data"
    },
    {
     "data": {
      "image/png": "[encoded data removed]",
      "text/latex": [
       "$\\displaystyle -2$"
      ],
      "text/plain": [
       "-2"
      ]
     },
     "metadata": {},
     "output_type": "display_data"
    },
    {
     "data": {
      "image/png": "[encoded data removed]",
      "text/latex": [
       "$\\displaystyle - 5 y + \\left(y + 1\\right)^{3} - 5$"
      ],
      "text/plain": [
       "              3    \n",
       "-5⋅y + (y + 1)  - 5"
      ]
     },
     "metadata": {},
     "output_type": "display_data"
    }
   ],
   "source": [
    "expr=x**3-5*x\n",
    "display(expr)\n",
    "display(expr.subs(x,2)) # x yerine 2 koyduk \n",
    "display(expr.subs(x,y+1))"
   ]
  },
  {
   "cell_type": "code",
   "execution_count": 27,
   "metadata": {
    "ExecuteTime": {
     "end_time": "2020-07-16T09:08:17.164296Z",
     "start_time": "2020-07-16T09:08:16.989762Z"
    },
    "scrolled": true
   },
   "outputs": [
    {
     "data": {
      "image/png": "[encoded data removed]",
      "text/latex": [
       "$\\displaystyle n!$"
      ],
      "text/plain": [
       "n!"
      ]
     },
     "metadata": {},
     "output_type": "display_data"
    },
    {
     "data": {
      "image/png": "[encoded data removed]",
      "text/latex": [
       "$\\displaystyle 120$"
      ],
      "text/plain": [
       "120"
      ]
     },
     "metadata": {},
     "output_type": "display_data"
    },
    {
     "data": {
      "image/png": "[encoded data removed]",
      "text/latex": [
       "$\\displaystyle {\\binom{n}{k}}$"
      ],
      "text/plain": [
       "⎛n⎞\n",
       "⎜ ⎟\n",
       "⎝k⎠"
      ]
     },
     "metadata": {},
     "output_type": "display_data"
    },
    {
     "data": {
      "image/png": "[encoded data removed]",
      "text/latex": [
       "$\\displaystyle {\\binom{5}{2}} = 10$"
      ],
      "text/plain": [
       "⎛5⎞     \n",
       "⎜ ⎟ = 10\n",
       "⎝2⎠     "
      ]
     },
     "execution_count": 27,
     "metadata": {},
     "output_type": "execute_result"
    }
   ],
   "source": [
    "n,k=symbols(\"n,k\",integer=True)\n",
    "display(factorial(n)) #faktoriyel\n",
    "display((factorial(5)))\n",
    "display(binomial(n,k))#binom\n",
    "Eq(binomial(5,2,evaluate=False),binomial(5,3)) "
   ]
  },
  {
   "cell_type": "code",
   "execution_count": 28,
   "metadata": {
    "ExecuteTime": {
     "end_time": "2020-07-16T09:08:17.210173Z",
     "start_time": "2020-07-16T09:08:17.166290Z"
    }
   },
   "outputs": [
    {
     "data": {
      "image/png": "[encoded data removed]",
      "text/latex": [
       "$\\displaystyle 5 + 2 i$"
      ],
      "text/plain": [
       "5 + 2⋅ⅈ"
      ]
     },
     "execution_count": 28,
     "metadata": {},
     "output_type": "execute_result"
    }
   ],
   "source": [
    "I*2 + 5 # imaginary number = I"
   ]
  },
  {
   "cell_type": "code",
   "execution_count": 29,
   "metadata": {
    "ExecuteTime": {
     "end_time": "2020-07-16T09:08:17.251063Z",
     "start_time": "2020-07-16T09:08:17.211170Z"
    }
   },
   "outputs": [
    {
     "data": {
      "image/png": "[encoded data removed]",
      "text/latex": [
       "$\\displaystyle \\frac{7}{8}$"
      ],
      "text/plain": [
       "7/8"
      ]
     },
     "execution_count": 29,
     "metadata": {},
     "output_type": "execute_result"
    }
   ],
   "source": [
    "Rational(7,8)"
   ]
  },
  {
   "cell_type": "code",
   "execution_count": 30,
   "metadata": {
    "ExecuteTime": {
     "end_time": "2020-07-16T09:08:17.294947Z",
     "start_time": "2020-07-16T09:08:17.253061Z"
    }
   },
   "outputs": [
    {
     "data": {
      "image/png": "[encoded data removed]",
      "text/latex": [
       "$\\displaystyle \\frac{13}{6}$"
      ],
      "text/plain": [
       "13/6"
      ]
     },
     "execution_count": 30,
     "metadata": {},
     "output_type": "execute_result"
    }
   ],
   "source": [
    "Rational(3,2)+Rational(2,3)"
   ]
  },
  {
   "cell_type": "code",
   "execution_count": 31,
   "metadata": {
    "ExecuteTime": {
     "end_time": "2020-07-16T09:08:17.343816Z",
     "start_time": "2020-07-16T09:08:17.296941Z"
    }
   },
   "outputs": [
    {
     "data": {
      "image/png": "[encoded data removed]",
      "text/latex": [
       "$\\displaystyle 2.16666666666667$"
      ],
      "text/plain": [
       "2.16666666666667"
      ]
     },
     "execution_count": 31,
     "metadata": {},
     "output_type": "execute_result"
    }
   ],
   "source": [
    "N(Rational(3,2)+Rational(2,3))"
   ]
  },
  {
   "cell_type": "code",
   "execution_count": 32,
   "metadata": {
    "ExecuteTime": {
     "end_time": "2020-07-16T09:08:17.385703Z",
     "start_time": "2020-07-16T09:08:17.344813Z"
    }
   },
   "outputs": [
    {
     "data": {
      "image/png": "[encoded data removed]",
      "text/latex": [
       "$\\displaystyle 3.141592654$"
      ],
      "text/plain": [
       "3.141592654"
      ]
     },
     "execution_count": 32,
     "metadata": {},
     "output_type": "execute_result"
    }
   ],
   "source": [
    "pi.evalf(10)"
   ]
  },
  {
   "cell_type": "code",
   "execution_count": 33,
   "metadata": {
    "ExecuteTime": {
     "end_time": "2020-07-16T09:08:17.431581Z",
     "start_time": "2020-07-16T09:08:17.387698Z"
    }
   },
   "outputs": [
    {
     "data": {
      "image/png": "[encoded data removed]",
      "text/latex": [
       "$\\displaystyle \\int x\\, dx$"
      ],
      "text/plain": [
       "⌠     \n",
       "⎮ x dx\n",
       "⌡     "
      ]
     },
     "metadata": {},
     "output_type": "display_data"
    },
    {
     "name": "stdout",
     "output_type": "stream",
     "text": [
      "<apply>\n",
      "\t<int/>\n",
      "\t<bvar>\n",
      "\t\t<ci>x</ci>\n",
      "\t</bvar>\n",
      "\t<ci>x</ci>\n",
      "</apply>\n",
      "\n"
     ]
    }
   ],
   "source": [
    "display(Integral(x,(x)))\n",
    "print_mathml(Integral(x,(x))) #mathML kodu için"
   ]
  },
  {
   "cell_type": "code",
   "execution_count": 34,
   "metadata": {
    "ExecuteTime": {
     "end_time": "2020-07-16T09:08:17.440564Z",
     "start_time": "2020-07-16T09:08:17.434573Z"
    }
   },
   "outputs": [
    {
     "name": "stdout",
     "output_type": "stream",
     "text": [
      "\\int x\\, dx\n"
     ]
    }
   ],
   "source": [
    "print_latex(Integral(x,(x))) #Latex kodu için"
   ]
  },
  {
   "cell_type": "code",
   "execution_count": 35,
   "metadata": {
    "ExecuteTime": {
     "end_time": "2020-07-16T09:08:17.455517Z",
     "start_time": "2020-07-16T09:08:17.442552Z"
    }
   },
   "outputs": [
    {
     "name": "stdout",
     "output_type": "stream",
     "text": [
      "⌠     \n",
      "⎮ x dx\n",
      "⌡     \n"
     ]
    }
   ],
   "source": [
    "pprint(Integral(x,(x)))"
   ]
  },
  {
   "cell_type": "markdown",
   "metadata": {},
   "source": [
    "## Factor,Simplify,Expand,Apart ve Together İşlemleri"
   ]
  },
  {
   "cell_type": "code",
   "execution_count": 36,
   "metadata": {
    "ExecuteTime": {
     "end_time": "2020-07-16T09:08:17.615611Z",
     "start_time": "2020-07-16T09:08:17.457512Z"
    }
   },
   "outputs": [
    {
     "data": {
      "image/png": "[encoded data removed]",
      "text/latex": [
       "$\\displaystyle \\sin^{2}{\\left(x \\right)} + \\cos^{2}{\\left(x \\right)}$"
      ],
      "text/plain": [
       "   2         2   \n",
       "sin (x) + cos (x)"
      ]
     },
     "metadata": {},
     "output_type": "display_data"
    },
    {
     "data": {
      "image/png": "[encoded data removed]",
      "text/latex": [
       "$\\displaystyle 1$"
      ],
      "text/plain": [
       "1"
      ]
     },
     "execution_count": 36,
     "metadata": {},
     "output_type": "execute_result"
    }
   ],
   "source": [
    "display(sin(x)**2 + cos(x)**2)\n",
    "simplify(sin(x)**2 + cos(x)**2)"
   ]
  },
  {
   "cell_type": "code",
   "execution_count": 37,
   "metadata": {
    "ExecuteTime": {
     "end_time": "2020-07-16T09:08:17.795129Z",
     "start_time": "2020-07-16T09:08:17.618603Z"
    }
   },
   "outputs": [
    {
     "data": {
      "image/png": "[encoded data removed]",
      "text/latex": [
       "$\\displaystyle \\frac{x^{2} + 2 x + 1}{x^{3} + 3 x^{2} + 3 x + 1}$"
      ],
      "text/plain": [
       "     2             \n",
       "    x  + 2⋅x + 1   \n",
       "───────────────────\n",
       " 3      2          \n",
       "x  + 3⋅x  + 3⋅x + 1"
      ]
     },
     "metadata": {},
     "output_type": "display_data"
    },
    {
     "data": {
      "image/png": "[encoded data removed]",
      "text/latex": [
       "$\\displaystyle \\frac{1}{x + 1}$"
      ],
      "text/plain": [
       "  1  \n",
       "─────\n",
       "x + 1"
      ]
     },
     "execution_count": 37,
     "metadata": {},
     "output_type": "execute_result"
    }
   ],
   "source": [
    "f=(x**2+2*x+1)/(x**3+3*x**2+3*x+1)\n",
    "display(f)\n",
    "simplify(f)"
   ]
  },
  {
   "cell_type": "code",
   "execution_count": 38,
   "metadata": {
    "ExecuteTime": {
     "end_time": "2020-07-16T09:08:17.847989Z",
     "start_time": "2020-07-16T09:08:17.797135Z"
    }
   },
   "outputs": [
    {
     "data": {
      "image/png": "[encoded data removed]",
      "text/latex": [
       "$\\displaystyle \\left(x + 1\\right)^{2}$"
      ],
      "text/plain": [
       "       2\n",
       "(x + 1) "
      ]
     },
     "execution_count": 38,
     "metadata": {},
     "output_type": "execute_result"
    }
   ],
   "source": [
    "factor(x**2+2*x+1)"
   ]
  },
  {
   "cell_type": "code",
   "execution_count": 39,
   "metadata": {
    "ExecuteTime": {
     "end_time": "2020-07-16T09:08:17.961686Z",
     "start_time": "2020-07-16T09:08:17.849982Z"
    }
   },
   "outputs": [
    {
     "data": {
      "image/png": "[encoded data removed]",
      "text/latex": [
       "$\\displaystyle x^{3} - x^{2}$"
      ],
      "text/plain": [
       " 3    2\n",
       "x  - x "
      ]
     },
     "metadata": {},
     "output_type": "display_data"
    },
    {
     "data": {
      "image/png": "[encoded data removed]",
      "text/latex": [
       "$\\displaystyle x^{2} \\left(x - 1\\right)$"
      ],
      "text/plain": [
       " 2        \n",
       "x ⋅(x - 1)"
      ]
     },
     "execution_count": 39,
     "metadata": {},
     "output_type": "execute_result"
    }
   ],
   "source": [
    "display(x**3-x**2)\n",
    "factor(x**3-x**2)"
   ]
  },
  {
   "cell_type": "code",
   "execution_count": 40,
   "metadata": {
    "ExecuteTime": {
     "end_time": "2020-07-16T09:08:18.066405Z",
     "start_time": "2020-07-16T09:08:17.962686Z"
    }
   },
   "outputs": [
    {
     "data": {
      "image/png": "[encoded data removed]",
      "text/latex": [
       "$\\displaystyle \\left(x - 3\\right) \\left(x + 2\\right)$"
      ],
      "text/plain": [
       "(x - 3)⋅(x + 2)"
      ]
     },
     "metadata": {},
     "output_type": "display_data"
    },
    {
     "data": {
      "image/png": "[encoded data removed]",
      "text/latex": [
       "$\\displaystyle x^{2} - x - 6$"
      ],
      "text/plain": [
       " 2        \n",
       "x  - x - 6"
      ]
     },
     "execution_count": 40,
     "metadata": {},
     "output_type": "execute_result"
    }
   ],
   "source": [
    "display((x + 2)*(x - 3))\n",
    "expand((x + 2)*(x - 3))"
   ]
  },
  {
   "cell_type": "code",
   "execution_count": 41,
   "metadata": {
    "ExecuteTime": {
     "end_time": "2020-07-16T09:08:18.189079Z",
     "start_time": "2020-07-16T09:08:18.069401Z"
    }
   },
   "outputs": [
    {
     "data": {
      "image/png": "[encoded data removed]",
      "text/latex": [
       "$\\displaystyle \\left(x + 1\\right)^{4}$"
      ],
      "text/plain": [
       "       4\n",
       "(x + 1) "
      ]
     },
     "metadata": {},
     "output_type": "display_data"
    },
    {
     "data": {
      "image/png": "[encoded data removed]",
      "text/latex": [
       "$\\displaystyle x^{4} + 4 x^{3} + 6 x^{2} + 4 x + 1$"
      ],
      "text/plain": [
       " 4      3      2          \n",
       "x  + 4⋅x  + 6⋅x  + 4⋅x + 1"
      ]
     },
     "execution_count": 41,
     "metadata": {},
     "output_type": "execute_result"
    }
   ],
   "source": [
    "display((x+1)**4)\n",
    "expand((x+1)**4)"
   ]
  },
  {
   "cell_type": "code",
   "execution_count": 42,
   "metadata": {
    "ExecuteTime": {
     "end_time": "2020-07-16T09:08:18.303770Z",
     "start_time": "2020-07-16T09:08:18.192069Z"
    },
    "scrolled": true
   },
   "outputs": [
    {
     "data": {
      "image/png": "[encoded data removed]",
      "text/latex": [
       "$\\displaystyle \\frac{8 x \\left(x^{2} + \\frac{3 x}{2}\\right)}{3}$"
      ],
      "text/plain": [
       "    ⎛ 2   3⋅x⎞\n",
       "8⋅x⋅⎜x  + ───⎟\n",
       "    ⎝      2 ⎠\n",
       "──────────────\n",
       "      3       "
      ]
     },
     "metadata": {},
     "output_type": "display_data"
    },
    {
     "data": {
      "image/png": "[encoded data removed]",
      "text/latex": [
       "$\\displaystyle \\frac{8 x^{3}}{3} + 4 x^{2}$"
      ],
      "text/plain": [
       "   3       \n",
       "8⋅x       2\n",
       "──── + 4⋅x \n",
       " 3         "
      ]
     },
     "execution_count": 42,
     "metadata": {},
     "output_type": "execute_result"
    }
   ],
   "source": [
    "display((x**2 + 3*x/2 )*(2*x + 2*x/3))\n",
    "expand((x**2 + 3*x/2 )*(2*x + 2*x/3))"
   ]
  },
  {
   "cell_type": "code",
   "execution_count": 43,
   "metadata": {
    "ExecuteTime": {
     "end_time": "2020-07-16T09:08:18.439946Z",
     "start_time": "2020-07-16T09:08:18.305765Z"
    }
   },
   "outputs": [
    {
     "data": {
      "image/png": "[encoded data removed]",
      "text/latex": [
       "$\\displaystyle \\frac{\\sin{\\left(x \\right)} \\tan{\\left(x \\right)}}{\\sec{\\left(x \\right)}}$"
      ],
      "text/plain": [
       "sin(x)⋅tan(x)\n",
       "─────────────\n",
       "    sec(x)   "
      ]
     },
     "metadata": {},
     "output_type": "display_data"
    },
    {
     "data": {
      "image/png": "[encoded data removed]",
      "text/latex": [
       "$\\displaystyle \\sin^{2}{\\left(x \\right)}$"
      ],
      "text/plain": [
       "   2   \n",
       "sin (x)"
      ]
     },
     "execution_count": 43,
     "metadata": {},
     "output_type": "execute_result"
    }
   ],
   "source": [
    "f=(sin(x)*tan(x))/sec(x)\n",
    "display(f)\n",
    "trigsimp(f) #simplify(f) da aynı sonucu verir"
   ]
  },
  {
   "cell_type": "code",
   "execution_count": 44,
   "metadata": {
    "ExecuteTime": {
     "end_time": "2020-07-16T09:08:18.642493Z",
     "start_time": "2020-07-16T09:08:18.441910Z"
    }
   },
   "outputs": [
    {
     "data": {
      "image/png": "[encoded data removed]",
      "text/latex": [
       "$\\displaystyle \\sin{\\left(x + y \\right)}$"
      ],
      "text/plain": [
       "sin(x + y)"
      ]
     },
     "metadata": {},
     "output_type": "display_data"
    },
    {
     "data": {
      "image/png": "[encoded data removed]",
      "text/latex": [
       "$\\displaystyle \\sin{\\left(x + y \\right)}$"
      ],
      "text/plain": [
       "sin(x + y)"
      ]
     },
     "metadata": {},
     "output_type": "display_data"
    },
    {
     "data": {
      "image/png": "[encoded data removed]",
      "text/latex": [
       "$\\displaystyle \\sin{\\left(x \\right)} \\cos{\\left(y \\right)} + \\sin{\\left(y \\right)} \\cos{\\left(x \\right)}$"
      ],
      "text/plain": [
       "sin(x)⋅cos(y) + sin(y)⋅cos(x)"
      ]
     },
     "execution_count": 44,
     "metadata": {},
     "output_type": "execute_result"
    }
   ],
   "source": [
    "display(sin(x+y))\n",
    "display(expand(sin(x+y))) #işe yaramadı\n",
    "expand_trig(sin(x+y))"
   ]
  },
  {
   "cell_type": "code",
   "execution_count": 45,
   "metadata": {
    "ExecuteTime": {
     "end_time": "2020-07-16T09:08:18.721354Z",
     "start_time": "2020-07-16T09:08:18.644488Z"
    }
   },
   "outputs": [
    {
     "data": {
      "image/png": "[encoded data removed]",
      "text/latex": [
       "$\\displaystyle 2 \\log{\\left(x \\right)}$"
      ],
      "text/plain": [
       "2⋅log(x)"
      ]
     },
     "execution_count": 45,
     "metadata": {},
     "output_type": "execute_result"
    }
   ],
   "source": [
    "expand_log(log(x**2),force=True)"
   ]
  },
  {
   "cell_type": "code",
   "execution_count": 46,
   "metadata": {
    "ExecuteTime": {
     "end_time": "2020-07-16T09:08:18.773144Z",
     "start_time": "2020-07-16T09:08:18.724274Z"
    }
   },
   "outputs": [
    {
     "data": {
      "image/png": "[encoded data removed]",
      "text/latex": [
       "$\\displaystyle \\log{\\left(x y \\right)}$"
      ],
      "text/plain": [
       "log(x⋅y)"
      ]
     },
     "execution_count": 46,
     "metadata": {},
     "output_type": "execute_result"
    }
   ],
   "source": [
    "logcombine(log(x) + log(y),force=True)"
   ]
  },
  {
   "cell_type": "code",
   "execution_count": 47,
   "metadata": {
    "ExecuteTime": {
     "end_time": "2020-07-16T09:08:18.832985Z",
     "start_time": "2020-07-16T09:08:18.775139Z"
    }
   },
   "outputs": [
    {
     "data": {
      "image/png": "[encoded data removed]",
      "text/latex": [
       "$\\displaystyle \\frac{1}{x^{2} - 2 x}$"
      ],
      "text/plain": [
       "   1    \n",
       "────────\n",
       " 2      \n",
       "x  - 2⋅x"
      ]
     },
     "execution_count": 47,
     "metadata": {},
     "output_type": "execute_result"
    }
   ],
   "source": [
    "f=1/(x**2-2*x)\n",
    "f"
   ]
  },
  {
   "cell_type": "code",
   "execution_count": 48,
   "metadata": {
    "ExecuteTime": {
     "end_time": "2020-07-16T09:08:18.897422Z",
     "start_time": "2020-07-16T09:08:18.834982Z"
    }
   },
   "outputs": [
    {
     "data": {
      "image/png": "[encoded data removed]",
      "text/latex": [
       "$\\displaystyle \\frac{1}{x \\left(x - 2\\right)}$"
      ],
      "text/plain": [
       "    1    \n",
       "─────────\n",
       "x⋅(x - 2)"
      ]
     },
     "execution_count": 48,
     "metadata": {},
     "output_type": "execute_result"
    }
   ],
   "source": [
    "together(f) #rasyonel ifadeleri birleştirir"
   ]
  },
  {
   "cell_type": "code",
   "execution_count": 49,
   "metadata": {
    "ExecuteTime": {
     "end_time": "2020-07-16T09:08:18.967245Z",
     "start_time": "2020-07-16T09:08:18.899417Z"
    }
   },
   "outputs": [
    {
     "data": {
      "image/png": "[encoded data removed]",
      "text/latex": [
       "$\\displaystyle \\frac{1}{2 \\left(x - 2\\right)} - \\frac{1}{2 x}$"
      ],
      "text/plain": [
       "    1        1 \n",
       "───────── - ───\n",
       "2⋅(x - 2)   2⋅x"
      ]
     },
     "execution_count": 49,
     "metadata": {},
     "output_type": "execute_result"
    }
   ],
   "source": [
    "apart(f) #ayrıştırma yapar"
   ]
  },
  {
   "cell_type": "markdown",
   "metadata": {},
   "source": [
    " ## Denklem Çözme"
   ]
  },
  {
   "cell_type": "code",
   "execution_count": 83,
   "metadata": {
    "ExecuteTime": {
     "end_time": "2020-07-16T09:15:41.572034Z",
     "start_time": "2020-07-16T09:15:41.457339Z"
    }
   },
   "outputs": [
    {
     "data": {
      "image/png": "[encoded data removed]",
      "text/latex": [
       "$\\displaystyle x^{2} + 2 x + 1 = 0$"
      ],
      "text/plain": [
       " 2              \n",
       "x  + 2⋅x + 1 = 0"
      ]
     },
     "metadata": {},
     "output_type": "display_data"
    },
    {
     "data": {
      "image/png": "[encoded data removed]",
      "text/latex": [
       "$\\displaystyle \\left\\{-1\\right\\}$"
      ],
      "text/plain": [
       "{-1}"
      ]
     },
     "execution_count": 83,
     "metadata": {},
     "output_type": "execute_result"
    }
   ],
   "source": [
    "display(Eq(x**2 + 2*x +1,0))\n",
    "solveset(x**2 + 2*x + 1)"
   ]
  },
  {
   "cell_type": "code",
   "execution_count": 85,
   "metadata": {
    "ExecuteTime": {
     "end_time": "2020-07-16T09:16:11.189421Z",
     "start_time": "2020-07-16T09:16:11.074729Z"
    }
   },
   "outputs": [
    {
     "data": {
      "image/png": "[encoded data removed]",
      "text/latex": [
       "$\\displaystyle x^{2} - 3 x + 1 = 0$"
      ],
      "text/plain": [
       " 2              \n",
       "x  - 3⋅x + 1 = 0"
      ]
     },
     "metadata": {},
     "output_type": "display_data"
    },
    {
     "data": {
      "image/png": "[encoded data removed]",
      "text/latex": [
       "$\\displaystyle \\left\\{\\frac{3}{2} - \\frac{\\sqrt{5}}{2}, \\frac{\\sqrt{5}}{2} + \\frac{3}{2}\\right\\}$"
      ],
      "text/plain": [
       "⎧3   √5  √5   3⎫\n",
       "⎨─ - ──, ── + ─⎬\n",
       "⎩2   2   2    2⎭"
      ]
     },
     "execution_count": 85,
     "metadata": {},
     "output_type": "execute_result"
    }
   ],
   "source": [
    "display(Eq(x**2-3*x+1,0))\n",
    "solveset(x**2-3*x+1)"
   ]
  },
  {
   "cell_type": "code",
   "execution_count": 87,
   "metadata": {
    "ExecuteTime": {
     "end_time": "2020-07-16T09:16:33.674089Z",
     "start_time": "2020-07-16T09:16:33.578345Z"
    }
   },
   "outputs": [
    {
     "data": {
      "image/png": "[encoded data removed]",
      "text/latex": [
       "$\\displaystyle x^{2} - 9 = 0$"
      ],
      "text/plain": [
       " 2        \n",
       "x  - 9 = 0"
      ]
     },
     "metadata": {},
     "output_type": "display_data"
    },
    {
     "data": {
      "image/png": "[encoded data removed]",
      "text/latex": [
       "$\\displaystyle \\left\\{-3, 3\\right\\}$"
      ],
      "text/plain": [
       "{-3, 3}"
      ]
     },
     "execution_count": 87,
     "metadata": {},
     "output_type": "execute_result"
    }
   ],
   "source": [
    "display(Eq(x**2 - 9,0))\n",
    "solveset(x**2 - 9, x)"
   ]
  },
  {
   "cell_type": "code",
   "execution_count": 89,
   "metadata": {
    "ExecuteTime": {
     "end_time": "2020-07-16T09:17:26.617759Z",
     "start_time": "2020-07-16T09:17:25.934732Z"
    }
   },
   "outputs": [
    {
     "data": {
      "image/png": "[encoded data removed]",
      "text/latex": [
       "$\\displaystyle \\sin{\\left(x \\right)} - \\cos^{2}{\\left(x \\right)} = 0$"
      ],
      "text/plain": [
       "            2       \n",
       "sin(x) - cos (x) = 0"
      ]
     },
     "metadata": {},
     "output_type": "display_data"
    },
    {
     "data": {
      "image/png": "[encoded data removed]",
      "text/latex": [
       "$\\displaystyle \\left\\{2 n \\pi + \\operatorname{atan}{\\left(\\frac{\\sqrt{2} \\sqrt{-1 + \\sqrt{5}}}{2} \\right)}\\; |\\; n \\in \\mathbb{Z}\\right\\} \\cup \\left\\{2 n \\pi - \\operatorname{atan}{\\left(\\frac{\\sqrt{2} \\sqrt{-1 + \\sqrt{5}}}{2} \\right)} + \\pi\\; |\\; n \\in \\mathbb{Z}\\right\\}$"
      ],
      "text/plain": [
       "⎧            ⎛     _________⎞        ⎫   ⎧            ⎛     _________⎞        \n",
       "⎪            ⎜√2⋅╲╱ -1 + √5 ⎟        ⎪   ⎪            ⎜√2⋅╲╱ -1 + √5 ⎟        \n",
       "⎨2⋅n⋅π + atan⎜──────────────⎟ | n ∊ ℤ⎬ ∪ ⎨2⋅n⋅π - atan⎜──────────────⎟ + π | n\n",
       "⎪            ⎝      2       ⎠        ⎪   ⎪            ⎝      2       ⎠        \n",
       "⎩                                    ⎭   ⎩                                    \n",
       "\n",
       "    ⎫\n",
       "    ⎪\n",
       " ∊ ℤ⎬\n",
       "    ⎪\n",
       "    ⎭"
      ]
     },
     "execution_count": 89,
     "metadata": {},
     "output_type": "execute_result"
    }
   ],
   "source": [
    "display(Eq(sin(x)-cos(x)**2,0))\n",
    "solveset(sin(x)-cos(x)**2,domain=S.Reals) "
   ]
  },
  {
   "cell_type": "code",
   "execution_count": 54,
   "metadata": {
    "ExecuteTime": {
     "end_time": "2020-07-16T09:08:20.442499Z",
     "start_time": "2020-07-16T09:08:20.378677Z"
    },
    "scrolled": true
   },
   "outputs": [
    {
     "data": {
      "image/png": "[encoded data removed]",
      "text/latex": [
       "$\\displaystyle \\left\\{\\left( - \\frac{1}{2}, \\  \\frac{3}{2}\\right)\\right\\}$"
      ],
      "text/plain": [
       "{(-1/2, 3/2)}"
      ]
     },
     "execution_count": 54,
     "metadata": {},
     "output_type": "execute_result"
    }
   ],
   "source": [
    "linsolve([x+y-1,x-y+2],(x,y)) #lineer denklem çözümü"
   ]
  },
  {
   "cell_type": "code",
   "execution_count": 55,
   "metadata": {
    "ExecuteTime": {
     "end_time": "2020-07-16T09:08:20.529022Z",
     "start_time": "2020-07-16T09:08:20.444493Z"
    }
   },
   "outputs": [
    {
     "data": {
      "image/png": "[encoded data removed]",
      "text/latex": [
       "$\\displaystyle \\left\\{\\left( 0, \\  y\\right)\\right\\}$"
      ],
      "text/plain": [
       "{(0, y)}"
      ]
     },
     "execution_count": 55,
     "metadata": {},
     "output_type": "execute_result"
    }
   ],
   "source": [
    " nonlinsolve([x*y, x*y - x+y*x], [x, y]) #lineer olmayan denklem çmzümü"
   ]
  },
  {
   "cell_type": "markdown",
   "metadata": {
    "ExecuteTime": {
     "end_time": "2020-07-14T18:45:42.690360Z",
     "start_time": "2020-07-14T18:45:42.630527Z"
    }
   },
   "source": [
    "## Matris İşlemleri"
   ]
  },
  {
   "cell_type": "code",
   "execution_count": 56,
   "metadata": {
    "ExecuteTime": {
     "end_time": "2020-07-16T09:08:20.575938Z",
     "start_time": "2020-07-16T09:08:20.531016Z"
    }
   },
   "outputs": [
    {
     "data": {
      "text/latex": [
       "$\\displaystyle \\left[\\begin{matrix}1 & 2 & 3\\\\4 & 5 & 6\\\\7 & 8 & 9\\end{matrix}\\right]$"
      ],
      "text/plain": [
       "⎡1  2  3⎤\n",
       "⎢       ⎥\n",
       "⎢4  5  6⎥\n",
       "⎢       ⎥\n",
       "⎣7  8  9⎦"
      ]
     },
     "execution_count": 56,
     "metadata": {},
     "output_type": "execute_result"
    }
   ],
   "source": [
    "Matrix([[1,2,3],[4,5,6],[7,8,9]]) #matris oluşturmak için Matrix() fonksiyonu kullanılır."
   ]
  },
  {
   "cell_type": "code",
   "execution_count": 57,
   "metadata": {
    "ExecuteTime": {
     "end_time": "2020-07-16T09:08:20.627757Z",
     "start_time": "2020-07-16T09:08:20.577891Z"
    }
   },
   "outputs": [
    {
     "data": {
      "text/latex": [
       "$\\displaystyle \\left[\\begin{matrix}1 & 0 & 0\\\\0 & 1 & 0\\\\0 & 0 & 1\\end{matrix}\\right]$"
      ],
      "text/plain": [
       "⎡1  0  0⎤\n",
       "⎢       ⎥\n",
       "⎢0  1  0⎥\n",
       "⎢       ⎥\n",
       "⎣0  0  1⎦"
      ]
     },
     "execution_count": 57,
     "metadata": {},
     "output_type": "execute_result"
    }
   ],
   "source": [
    "eye(3) #birim matris "
   ]
  },
  {
   "cell_type": "code",
   "execution_count": 58,
   "metadata": {
    "ExecuteTime": {
     "end_time": "2020-07-16T09:08:20.675630Z",
     "start_time": "2020-07-16T09:08:20.629753Z"
    }
   },
   "outputs": [
    {
     "data": {
      "text/latex": [
       "$\\displaystyle \\left[\\begin{matrix}0 & 0 & 0 & 0\\\\0 & 0 & 0 & 0\\end{matrix}\\right]$"
      ],
      "text/plain": [
       "⎡0  0  0  0⎤\n",
       "⎢          ⎥\n",
       "⎣0  0  0  0⎦"
      ]
     },
     "execution_count": 58,
     "metadata": {},
     "output_type": "execute_result"
    }
   ],
   "source": [
    "zeros(2,4) #sıfır matris"
   ]
  },
  {
   "cell_type": "code",
   "execution_count": 59,
   "metadata": {
    "ExecuteTime": {
     "end_time": "2020-07-16T09:08:20.722151Z",
     "start_time": "2020-07-16T09:08:20.677625Z"
    }
   },
   "outputs": [
    {
     "data": {
      "text/latex": [
       "$\\displaystyle \\left[\\begin{matrix}1 & 1 & 1\\\\1 & 1 & 1\\end{matrix}\\right]$"
      ],
      "text/plain": [
       "⎡1  1  1⎤\n",
       "⎢       ⎥\n",
       "⎣1  1  1⎦"
      ]
     },
     "execution_count": 59,
     "metadata": {},
     "output_type": "execute_result"
    }
   ],
   "source": [
    "ones(2,3) #birler matris"
   ]
  },
  {
   "cell_type": "code",
   "execution_count": 60,
   "metadata": {
    "ExecuteTime": {
     "end_time": "2020-07-16T09:08:20.771011Z",
     "start_time": "2020-07-16T09:08:20.724135Z"
    }
   },
   "outputs": [
    {
     "data": {
      "text/latex": [
       "$\\displaystyle \\left[\\begin{matrix}1 & 0 & 0 & 0\\\\0 & 2 & 0 & 0\\\\0 & 0 & 3 & 0\\\\0 & 0 & 0 & 4\\end{matrix}\\right]$"
      ],
      "text/plain": [
       "⎡1  0  0  0⎤\n",
       "⎢          ⎥\n",
       "⎢0  2  0  0⎥\n",
       "⎢          ⎥\n",
       "⎢0  0  3  0⎥\n",
       "⎢          ⎥\n",
       "⎣0  0  0  4⎦"
      ]
     },
     "execution_count": 60,
     "metadata": {},
     "output_type": "execute_result"
    }
   ],
   "source": [
    "diag(1,2,3,4) #diagonal matris"
   ]
  },
  {
   "cell_type": "code",
   "execution_count": 61,
   "metadata": {
    "ExecuteTime": {
     "end_time": "2020-07-16T09:08:20.816893Z",
     "start_time": "2020-07-16T09:08:20.773007Z"
    }
   },
   "outputs": [
    {
     "data": {
      "text/latex": [
       "$\\displaystyle \\left[\\begin{matrix}1 & 0 & 0\\\\0 & 2 & 2\\\\0 & 2 & 2\\end{matrix}\\right]$"
      ],
      "text/plain": [
       "⎡1  0  0⎤\n",
       "⎢       ⎥\n",
       "⎢0  2  2⎥\n",
       "⎢       ⎥\n",
       "⎣0  2  2⎦"
      ]
     },
     "execution_count": 61,
     "metadata": {},
     "output_type": "execute_result"
    }
   ],
   "source": [
    "diag(1,[[2,2],[2,2]]) #diagonal matris oluşturma"
   ]
  },
  {
   "cell_type": "code",
   "execution_count": 62,
   "metadata": {
    "ExecuteTime": {
     "end_time": "2020-07-16T09:08:20.907163Z",
     "start_time": "2020-07-16T09:08:20.818889Z"
    }
   },
   "outputs": [
    {
     "data": {
      "text/latex": [
       "$\\displaystyle \\left[\\begin{matrix}1 & 2\\\\3 & 4\\end{matrix}\\right]$"
      ],
      "text/plain": [
       "⎡1  2⎤\n",
       "⎢    ⎥\n",
       "⎣3  4⎦"
      ]
     },
     "metadata": {},
     "output_type": "display_data"
    },
    {
     "data": {
      "image/png": "[encoded data removed]",
      "text/latex": [
       "$\\displaystyle -2$"
      ],
      "text/plain": [
       "-2"
      ]
     },
     "execution_count": 62,
     "metadata": {},
     "output_type": "execute_result"
    }
   ],
   "source": [
    "display(Matrix([[1,2],[3,4]]))\n",
    "det(Matrix([[1,2],[3,4]]))  #determinant hesaplama"
   ]
  },
  {
   "cell_type": "code",
   "execution_count": 63,
   "metadata": {
    "ExecuteTime": {
     "end_time": "2020-07-16T09:08:20.991460Z",
     "start_time": "2020-07-16T09:08:20.909157Z"
    }
   },
   "outputs": [
    {
     "data": {
      "text/latex": [
       "$\\displaystyle \\left[\\begin{matrix}1 & 2\\\\3 & 4\\end{matrix}\\right]$"
      ],
      "text/plain": [
       "⎡1  2⎤\n",
       "⎢    ⎥\n",
       "⎣3  4⎦"
      ]
     },
     "metadata": {},
     "output_type": "display_data"
    },
    {
     "data": {
      "text/latex": [
       "$\\displaystyle \\left[\\begin{matrix}-2 & 1\\\\\\frac{3}{2} & - \\frac{1}{2}\\end{matrix}\\right]$"
      ],
      "text/plain": [
       "⎡-2    1  ⎤\n",
       "⎢         ⎥\n",
       "⎣3/2  -1/2⎦"
      ]
     },
     "execution_count": 63,
     "metadata": {},
     "output_type": "execute_result"
    }
   ],
   "source": [
    "display(Matrix([[1,2],[3,4]]))  #matris tersi alma\n",
    "Matrix([[1,2],[3,4]]).inv()"
   ]
  },
  {
   "cell_type": "code",
   "execution_count": 64,
   "metadata": {
    "ExecuteTime": {
     "end_time": "2020-07-16T09:08:21.034346Z",
     "start_time": "2020-07-16T09:08:20.993453Z"
    }
   },
   "outputs": [
    {
     "data": {
      "text/latex": [
       "$\\displaystyle \\left[\\begin{matrix}1 & 3\\\\2 & 4\\end{matrix}\\right]$"
      ],
      "text/plain": [
       "⎡1  3⎤\n",
       "⎢    ⎥\n",
       "⎣2  4⎦"
      ]
     },
     "execution_count": 64,
     "metadata": {},
     "output_type": "execute_result"
    }
   ],
   "source": [
    "Matrix([[1,2],[3,4]]).transpose() #matris transpozesi"
   ]
  },
  {
   "cell_type": "code",
   "execution_count": 65,
   "metadata": {
    "ExecuteTime": {
     "end_time": "2020-07-16T09:08:21.164022Z",
     "start_time": "2020-07-16T09:08:21.036338Z"
    }
   },
   "outputs": [
    {
     "data": {
      "text/latex": [
       "$\\displaystyle \\left[\\begin{matrix}1 & 2\\\\3 & 4\\end{matrix}\\right] + \\left[\\begin{matrix}1 & 2\\\\3 & 4\\end{matrix}\\right] = \\left[\\begin{matrix}2 & 4\\\\6 & 8\\end{matrix}\\right]$"
      ],
      "text/plain": [
       "⎡1  2⎤   ⎡1  2⎤   ⎡2  4⎤\n",
       "⎢    ⎥ + ⎢    ⎥ = ⎢    ⎥\n",
       "⎣3  4⎦   ⎣3  4⎦   ⎣6  8⎦"
      ]
     },
     "metadata": {},
     "output_type": "display_data"
    },
    {
     "data": {
      "text/latex": [
       "$\\displaystyle \\left[\\begin{matrix}1 & 2\\\\3 & 4\\end{matrix}\\right] \\left[\\begin{matrix}1 & 2\\\\3 & 4\\end{matrix}\\right] = \\left[\\begin{matrix}7 & 10\\\\15 & 22\\end{matrix}\\right]$"
      ],
      "text/plain": [
       "⎡1  2⎤ ⎡1  2⎤   ⎡7   10⎤\n",
       "⎢    ⎥⋅⎢    ⎥ = ⎢      ⎥\n",
       "⎣3  4⎦ ⎣3  4⎦   ⎣15  22⎦"
      ]
     },
     "metadata": {},
     "output_type": "display_data"
    },
    {
     "data": {
      "text/latex": [
       "$\\displaystyle \\left(\\left[\\begin{matrix}1 & 2\\\\3 & 4\\end{matrix}\\right]\\right)^{2} = \\left[\\begin{matrix}7 & 10\\\\15 & 22\\end{matrix}\\right]$"
      ],
      "text/plain": [
       "        2           \n",
       "⎛⎡1  2⎤⎞    ⎡7   10⎤\n",
       "⎜⎢    ⎥⎟  = ⎢      ⎥\n",
       "⎝⎣3  4⎦⎠    ⎣15  22⎦"
      ]
     },
     "metadata": {},
     "output_type": "display_data"
    }
   ],
   "source": [
    "matrix_1=Matrix([[1,2],[3,4]])\n",
    "matrix_2=Matrix([[1,2],[3,4]])\n",
    "\n",
    "display(Eq(MatAdd(matrix_1,matrix_2),Add(matrix_1,matrix_2))) #matris toplama\n",
    "display(Eq(MatMul(matrix_1,matrix_2),Mul(matrix_1,matrix_2))) #matris çarpım\n",
    "display(Eq(MatPow(matrix_1,2),matrix_1**2)) #matris karesi"
   ]
  },
  {
   "cell_type": "markdown",
   "metadata": {},
   "source": [
    "## Grafik Çizme"
   ]
  },
  {
   "cell_type": "code",
   "execution_count": 66,
   "metadata": {
    "ExecuteTime": {
     "end_time": "2020-07-16T09:08:21.678619Z",
     "start_time": "2020-07-16T09:08:21.166018Z"
    }
   },
   "outputs": [
    {
     "data": {
      "image/png": "[encoded data removed]",
      "text/plain": [
       "<Figure size 432x288 with 1 Axes>"
      ]
     },
     "metadata": {
      "needs_background": "light"
     },
     "output_type": "display_data"
    }
   ],
   "source": [
    "plot(-x);"
   ]
  },
  {
   "cell_type": "code",
   "execution_count": 91,
   "metadata": {
    "ExecuteTime": {
     "end_time": "2020-07-16T09:32:26.023786Z",
     "start_time": "2020-07-16T09:32:25.822666Z"
    }
   },
   "outputs": [
    {
     "data": {
      "image/png": "[encoded data removed]",
      "text/plain": [
       "<Figure size 432x288 with 1 Axes>"
      ]
     },
     "metadata": {
      "needs_background": "light"
     },
     "output_type": "display_data"
    }
   ],
   "source": [
    "plot(x**2,-x**2,line_color=\"red\");"
   ]
  },
  {
   "cell_type": "code",
   "execution_count": 68,
   "metadata": {
    "ExecuteTime": {
     "end_time": "2020-07-16T09:08:22.223676Z",
     "start_time": "2020-07-16T09:08:21.931943Z"
    }
   },
   "outputs": [
    {
     "data": {
      "image/png": "[encoded data removed]",
      "text/latex": [
       "$\\displaystyle \\frac{1}{1 + e^{- x}}$"
      ],
      "text/plain": [
       "   1   \n",
       "───────\n",
       "     -x\n",
       "1 + ℯ  "
      ]
     },
     "metadata": {},
     "output_type": "display_data"
    },
    {
     "data": {
      "image/png": "[encoded data removed]",
      "text/plain": [
       "<Figure size 432x288 with 1 Axes>"
      ]
     },
     "metadata": {
      "needs_background": "light"
     },
     "output_type": "display_data"
    }
   ],
   "source": [
    "display(1/(1+exp(1)**(-x)))  #sigmoid fonksiyonu\n",
    "plot(1/(1+exp(1)**(-x))); "
   ]
  },
  {
   "cell_type": "code",
   "execution_count": 69,
   "metadata": {
    "ExecuteTime": {
     "end_time": "2020-07-16T09:08:22.754333Z",
     "start_time": "2020-07-16T09:08:22.226662Z"
    }
   },
   "outputs": [
    {
     "data": {
      "image/png": "[encoded data removed]",
      "text/plain": [
       "<Figure size 432x288 with 1 Axes>"
      ]
     },
     "metadata": {
      "needs_background": "light"
     },
     "output_type": "display_data"
    }
   ],
   "source": [
    "from sympy.plotting import plot3d\n",
    "plot3d(1/(1+exp(1)**(-x))); #3D sigmoid"
   ]
  },
  {
   "cell_type": "code",
   "execution_count": 70,
   "metadata": {
    "ExecuteTime": {
     "end_time": "2020-07-16T09:08:23.122385Z",
     "start_time": "2020-07-16T09:08:22.756327Z"
    },
    "scrolled": true
   },
   "outputs": [
    {
     "data": {
      "image/png": "[encoded data removed]",
      "text/plain": [
       "<Figure size 432x288 with 1 Axes>"
      ]
     },
     "metadata": {
      "needs_background": "light"
     },
     "output_type": "display_data"
    }
   ],
   "source": [
    "\n",
    "plot_implicit(y > x**2 + x*2 + 1);"
   ]
  },
  {
   "cell_type": "code",
   "execution_count": 71,
   "metadata": {
    "ExecuteTime": {
     "end_time": "2020-07-16T09:08:23.517331Z",
     "start_time": "2020-07-16T09:08:23.124378Z"
    },
    "scrolled": true
   },
   "outputs": [
    {
     "name": "stdout",
     "output_type": "stream",
     "text": [
      "      9 |                                                      /\n",
      "        |                                                    .. \n",
      "        |                                                  ..   \n",
      "        |                                                ..     \n",
      "        |                                              ..       \n",
      "        |                                            ..         \n",
      "        |                                          ..           \n",
      "        |                                        ..             \n",
      "        |                                     ...               \n",
      "        |                                   ..                  \n",
      "      5 |---------------------------------..--------------------\n",
      "        |                              ...                      \n",
      "        |                           ...                         \n",
      "        |                         ..                            \n",
      "        |                      ...                              \n",
      "        |                   ...                                 \n",
      "        |               ....                                    \n",
      "        |            ...                                        \n",
      "        |        ....                                           \n",
      "        |   .....                                               \n",
      "      1 |_______________________________________________________\n",
      "         1                          2                          3\n"
     ]
    }
   ],
   "source": [
    "textplot(x**2,1,3)"
   ]
  },
  {
   "cell_type": "markdown",
   "metadata": {},
   "source": [
    "## Ölçü Birimleri Dönüşüm İşlemleri"
   ]
  },
  {
   "cell_type": "code",
   "execution_count": 72,
   "metadata": {
    "ExecuteTime": {
     "end_time": "2020-07-16T09:08:23.524310Z",
     "start_time": "2020-07-16T09:08:23.519324Z"
    }
   },
   "outputs": [],
   "source": [
    "from sympy.physics import units\n",
    "from sympy.physics.units import convert_to,kilometer,centimeters,hour,second,gram,kilogram,meter"
   ]
  },
  {
   "cell_type": "code",
   "execution_count": 73,
   "metadata": {
    "ExecuteTime": {
     "end_time": "2020-07-16T09:08:23.580161Z",
     "start_time": "2020-07-16T09:08:23.527301Z"
    }
   },
   "outputs": [
    {
     "data": {
      "text/latex": [
       "$\\displaystyle 600 \\text{W}$"
      ],
      "text/plain": [
       "600⋅watt"
      ]
     },
     "execution_count": 73,
     "metadata": {},
     "output_type": "execute_result"
    }
   ],
   "source": [
    "600*units.watt"
   ]
  },
  {
   "cell_type": "code",
   "execution_count": 74,
   "metadata": {
    "ExecuteTime": {
     "end_time": "2020-07-16T09:08:23.638005Z",
     "start_time": "2020-07-16T09:08:23.582154Z"
    }
   },
   "outputs": [
    {
     "data": {
      "image/png": "[encoded data removed]",
      "text/latex": [
       "$\\displaystyle \\Omega$"
      ],
      "text/plain": [
       "ohm"
      ]
     },
     "execution_count": 74,
     "metadata": {},
     "output_type": "execute_result"
    }
   ],
   "source": [
    "units.ohm"
   ]
  },
  {
   "cell_type": "code",
   "execution_count": 75,
   "metadata": {
    "ExecuteTime": {
     "end_time": "2020-07-16T09:08:23.678896Z",
     "start_time": "2020-07-16T09:08:23.640000Z"
    }
   },
   "outputs": [
    {
     "data": {
      "text/latex": [
       "$\\displaystyle \\text{Pa}$"
      ],
      "text/plain": [
       "pascal"
      ]
     },
     "execution_count": 75,
     "metadata": {},
     "output_type": "execute_result"
    }
   ],
   "source": [
    "units.pascal"
   ]
  },
  {
   "cell_type": "code",
   "execution_count": 76,
   "metadata": {
    "ExecuteTime": {
     "end_time": "2020-07-16T09:08:23.723775Z",
     "start_time": "2020-07-16T09:08:23.680891Z"
    }
   },
   "outputs": [
    {
     "data": {
      "text/latex": [
       "$\\displaystyle 1000 \\text{g}$"
      ],
      "text/plain": [
       "1000⋅gram"
      ]
     },
     "execution_count": 76,
     "metadata": {},
     "output_type": "execute_result"
    }
   ],
   "source": [
    "kilogram.convert_to(gram)"
   ]
  },
  {
   "cell_type": "code",
   "execution_count": 77,
   "metadata": {
    "ExecuteTime": {
     "end_time": "2020-07-16T09:08:23.777639Z",
     "start_time": "2020-07-16T09:08:23.724773Z"
    }
   },
   "outputs": [
    {
     "data": {
      "text/latex": [
       "$\\displaystyle 3600 \\text{s}$"
      ],
      "text/plain": [
       "3600⋅second"
      ]
     },
     "execution_count": 77,
     "metadata": {},
     "output_type": "execute_result"
    }
   ],
   "source": [
    "hour.convert_to(second)"
   ]
  },
  {
   "cell_type": "code",
   "execution_count": 78,
   "metadata": {
    "ExecuteTime": {
     "end_time": "2020-07-16T09:08:23.827498Z",
     "start_time": "2020-07-16T09:08:23.779627Z"
    }
   },
   "outputs": [
    {
     "data": {
      "text/latex": [
       "$\\displaystyle 5 \\text{km}$"
      ],
      "text/plain": [
       "5⋅kilometer"
      ]
     },
     "execution_count": 78,
     "metadata": {},
     "output_type": "execute_result"
    }
   ],
   "source": [
    "5000*meter.convert_to(kilometer)"
   ]
  }
 ],
 "metadata": {
  "kernelspec": {
   "display_name": "Python 3",
   "language": "python",
   "name": "python3"
  },
  "language_info": {
   "codemirror_mode": {
    "name": "ipython",
    "version": 3
   },
   "file_extension": ".py",
   "mimetype": "text/x-python",
   "name": "python",
   "nbconvert_exporter": "python",
   "pygments_lexer": "ipython3",
   "version": "3.7.7"
  },
  "toc": {
   "base_numbering": 1,
   "nav_menu": {},
   "number_sections": true,
   "sideBar": true,
   "skip_h1_title": false,
   "title_cell": "Table of Contents",
   "title_sidebar": "Contents",
   "toc_cell": false,
   "toc_position": {
    "height": "calc(100% - 180px)",
    "left": "10px",
    "top": "150px",
    "width": "165px"
   },
   "toc_section_display": true,
   "toc_window_display": false
  }
 },
 "nbformat": 4,
 "nbformat_minor": 4
}
